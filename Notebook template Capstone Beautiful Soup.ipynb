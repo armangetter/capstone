{
 "cells": [
  {
   "cell_type": "markdown",
   "metadata": {},
   "source": [
    "# Capstone Webscrapping using BeautifulSoup\n",
    "\n",
    "ARMAN ANNAS PUTRA\n",
    "Ini Adalah Data dari https://news.mifx.com/kurs-valuta-asing?kurs=JPY.\n",
    "berisi data kurs yen jepang\n"
   ]
  },
  {
   "cell_type": "code",
   "execution_count": 2,
   "metadata": {
    "ExecuteTime": {
     "end_time": "2020-01-13T05:12:23.275508Z",
     "start_time": "2020-01-13T05:12:20.009898Z"
    }
   },
   "outputs": [],
   "source": [
    "import requests\n",
    "\n",
    "url_get = requests.get('https://news.mifx.com/kurs-valuta-asing?kurs=JPY')"
   ]
  },
  {
   "cell_type": "markdown",
   "metadata": {},
   "source": [
    "To visualize what exactly you get from the `request.get`, we can use .content so ee what we exactly get, in here i slice it so it won't make our screen full of the html we get from the page. You can delete the slicing if you want to see what we fully get."
   ]
  },
  {
   "cell_type": "code",
   "execution_count": 3,
   "metadata": {
    "ExecuteTime": {
     "end_time": "2020-01-13T05:12:23.290648Z",
     "start_time": "2020-01-13T05:12:23.277650Z"
    }
   },
   "outputs": [
    {
     "data": {
      "text/plain": [
       "b'!DOCTYPE html PUBLIC \"-//W3C//DTD XHTML 1.0 Transitional//EN\" \"http://www.w3.org/TR/xhtml1/DTD/xhtml1-transitional.dtd\">\\n<html xmlns=\"http://www.w3.org/1999/xhtml\">\\n<head>\\n<meta http-equiv=\"Content-Language\" content=\"en,in\" />\\n<link rel=\"alternate\" href=\"https://news.mifx.com/kurs-valuta-asing.php\" hreflang=\"en-ID\" />\\n<base href=\"https://news.mifx.com/\" target=\"_self\" />\\n<title>Kurs Dollar | USD | Nilai Tukar Dollar Hari Ini</title>\\n<meta property=\"og:title\" content=\"Kurs Dollar | USD | Nilai Tukar Dollar Hari Ini\" />\\n<meta name=\"description\" content=\"Nilai tukar rupiah terhadap dollar hari ini berdasarkan kurs tengah Bank Indonesia. \" />\\n<meta property=\"og:description\" content=\"Nilai tukar rupiah terhadap dollar hari ini berdasarkan kurs tengah Bank Indonesia. \" />'"
      ]
     },
     "execution_count": 3,
     "metadata": {},
     "output_type": "execute_result"
    }
   ],
   "source": [
    "url_get.content[1:777]"
   ]
  },
  {
   "cell_type": "markdown",
   "metadata": {},
   "source": [
    "As we can see we get a very unstructured and complex html, which actually contains the codes needed to show the webpages on your web browser. But we as human still confused what and where we can use that piece of code, so here where we use the beautifulsoup. Beautiful soup class will result a beautifulsoup object. Beautiful Soup transforms a complex HTML document into a complex tree of Python objects. But you’ll only ever have to deal with about four kinds of objects: `Tag`, `NavigableString`, `BeautifulSoup`, and `Comment`. But at this module we will only use `BeautifulSoup`."
   ]
  },
  {
   "cell_type": "code",
   "execution_count": 4,
   "metadata": {
    "ExecuteTime": {
     "end_time": "2020-01-13T05:12:23.808122Z",
     "start_time": "2020-01-13T05:12:23.292610Z"
    }
   },
   "outputs": [
    {
     "name": "stdout",
     "output_type": "stream",
     "text": [
      "<class 'bs4.BeautifulSoup'>\n"
     ]
    }
   ],
   "source": [
    "from bs4 import BeautifulSoup \n",
    "\n",
    "soup = BeautifulSoup(url_get.content,\"html.parser\")\n",
    "print(type(soup))"
   ]
  },
  {
   "cell_type": "markdown",
   "metadata": {},
   "source": [
    "Let's see how our beautifulsoup looks like. As you can see, the content is the same with our `get_url` object but it's tidier. Also beautifulsoup give us method to make it even more prettier, for tidyness purpouse we slice to only see first 1045 character. "
   ]
  },
  {
   "cell_type": "code",
   "execution_count": 5,
   "metadata": {
    "ExecuteTime": {
     "end_time": "2020-01-13T05:12:23.851033Z",
     "start_time": "2020-01-13T05:12:23.810086Z"
    }
   },
   "outputs": [
    {
     "name": "stdout",
     "output_type": "stream",
     "text": [
      "<!DOCTYPE html PUBLIC \"-//W3C//DTD XHTML 1.0 Transitional//EN\" \"http://www.w3.org/TR/xhtml1/DTD/xhtml1-transitional.dtd\">\n",
      "<html xmlns=\"http://www.w3.org/1999/xhtml\">\n",
      " <head>\n",
      "  <meta content=\"en,in\" http-equiv=\"Content-Language\"/>\n",
      "  <link href=\"https://news.mifx.com/kurs-valuta-asing.php\" hreflang=\"en-ID\" rel=\"alternate\"/>\n",
      "  <base href=\"https://news.mifx.com/\" target=\"_self\"/>\n",
      "  <title>\n",
      "   Kurs Dollar | USD | Nilai Tukar Dollar Hari Ini\n",
      "  </title>\n",
      "  <meta content=\"Kurs Dollar | USD | Nilai Tukar Dollar Hari Ini\" property=\"og:title\"/>\n",
      "  <meta content=\"Nilai tukar rupiah terhadap dollar hari ini berdasarkan kurs tengah Bank Indonesia. \" name=\"description\"/>\n",
      "  <meta content=\"Nilai tukar rupiah terhadap dollar hari ini berdasarkan kurs tengah Bank Indonesia. \" property=\"og:description\"/>\n",
      "  <meta content=\"Broker Terbaik, Trading Forex, Trading Teregulasi, Trading Online, Monex, mifx,\" name=\"keywords\"/>\n",
      "  <meta content=\"favicon.jpg?v=1570462055\" property=\"og:image\"/>\n",
      "  <meta content=\"Ultimaengine.com\" name=\"author\"/>\n",
      "  <meta content=\"fo\n"
     ]
    }
   ],
   "source": [
    "print(soup.prettify()[:1045])"
   ]
  },
  {
   "cell_type": "markdown",
   "metadata": {},
   "source": [
    "Find the key and put the key into the `.find()` . Selanjutnya Proses pencarian tag dari tabel yang akan di scraping"
   ]
  },
  {
   "cell_type": "code",
   "execution_count": 6,
   "metadata": {
    "ExecuteTime": {
     "end_time": "2020-01-13T05:12:23.878904Z",
     "start_time": "2020-01-13T05:12:23.854974Z"
    }
   },
   "outputs": [
    {
     "name": "stdout",
     "output_type": "stream",
     "text": [
      "table cellpadding=\"10\" cellspacing=\"0\" class=\"centerText newsTable2\" width=\"100%\">\n",
      " <tr class=\"colorWhite fontsize14 firstRow\">\n",
      "  <td>\n",
      "   TANGGAL\n",
      "  </td>\n",
      "  <td>\n",
      "   ASK\n",
      "  </td>\n",
      "  <td>\n",
      "   BID\n",
      "  </td>\n",
      " </tr>\n",
      " <tr class=\"verySoftGreyBg\">\n",
      "  <td>\n",
      "   07 Agustus 2020\n",
      "  </td>\n",
      "  <td>\n",
      "   139,42\n",
      "  </td>\n",
      "  <td>\n",
      "   138,02\n",
      "  </td>\n",
      " </tr>\n",
      " <tr>\n",
      "  <td>\n",
      "   06 Agustus 2020\n",
      "  </td>\n",
      "  <td>\n",
      "   138,88\n",
      "  </td>\n",
      "  <td>\n",
      "   137,48\n",
      "  </td>\n",
      " </tr>\n",
      " <tr class=\"verySoftGreyBg\">\n",
      "  <td>\n",
      "   05 Agustus 2020\n",
      "  </td>\n",
      "  <td>\n",
      "   139,\n"
     ]
    }
   ],
   "source": [
    "table = soup.find('table',attrs={'class':'centerText newsTable2'})\n",
    "print(table.prettify()[1:500])"
   ]
  },
  {
   "cell_type": "code",
   "execution_count": 7,
   "metadata": {
    "scrolled": true
   },
   "outputs": [
    {
     "data": {
      "text/plain": [
       "[<tr class=\"verySoftGreyBg\">\n",
       " <td>07 Agustus 2020</td>\n",
       " <td>139,42</td>\n",
       " <td>138,02</td>\n",
       " </tr>,\n",
       " <tr>\n",
       " <td>06 Agustus 2020</td>\n",
       " <td>138,88</td>\n",
       " <td>137,48</td>\n",
       " </tr>,\n",
       " <tr class=\"verySoftGreyBg\">\n",
       " <td>05 Agustus 2020</td>\n",
       " <td>139,23</td>\n",
       " <td>137,84</td>\n",
       " </tr>,\n",
       " <tr>\n",
       " <td>04 Agustus 2020</td>\n",
       " <td>139,19</td>\n",
       " <td>137,79</td>\n",
       " </tr>]"
      ]
     },
     "execution_count": 7,
     "metadata": {},
     "output_type": "execute_result"
    }
   ],
   "source": [
    "tr = table.find_all('tr')\n",
    "tr[1:5]"
   ]
  },
  {
   "cell_type": "code",
   "execution_count": 8,
   "metadata": {},
   "outputs": [
    {
     "data": {
      "text/plain": [
       "<tr class=\"verySoftGreyBg\">\n",
       "<td>07 Agustus 2020</td>\n",
       "<td>139,42</td>\n",
       "<td>138,02</td>\n",
       "</tr>"
      ]
     },
     "execution_count": 8,
     "metadata": {},
     "output_type": "execute_result"
    }
   ],
   "source": [
    "table.find_all('tr')[1]"
   ]
  },
  {
   "cell_type": "markdown",
   "metadata": {},
   "source": [
    "proses scraping dan pemisahan masing2 elemen sesuai dengan headernya. ada ask/jual dan bid/beli serta periode tanggal nya."
   ]
  },
  {
   "cell_type": "code",
   "execution_count": 9,
   "metadata": {
    "ExecuteTime": {
     "end_time": "2020-01-13T05:12:24.008256Z",
     "start_time": "2020-01-13T05:12:23.980358Z"
    }
   },
   "outputs": [
    {
     "data": {
      "text/plain": [
       "[('07-08-2020', '139.42', '138.02'),\n",
       " ('06-08-2020', '138.88', '137.48'),\n",
       " ('05-08-2020', '139.23', '137.84'),\n",
       " ('04-08-2020', '139.19', '137.79'),\n",
       " ('03-08-2020', '139.72', '138.32')]"
      ]
     },
     "execution_count": 9,
     "metadata": {},
     "output_type": "execute_result"
    }
   ],
   "source": [
    "temp = [] #initiating a tuple\n",
    "\n",
    "for i in range(1, len(tr)):\n",
    "    row = table.find_all('tr')[i]\n",
    "    \n",
    "    #get bulan\n",
    "    periode = row.find_all('td')[0].text\n",
    "    periode = periode.strip().replace('\\xa0','-').replace('Agustus','08').replace('Juli','07') #for removing the excess whitespace\n",
    "    \n",
    "    #get jual\n",
    "    jual = row.find_all('td')[1].text\n",
    "    jual = jual.strip().replace(',','.') #for removing the excess whitespace\n",
    "    \n",
    "     #get beli\n",
    "    beli = row.find_all('td')[2].text\n",
    "    beli = beli.strip().replace(',','.')\n",
    "    temp.append((periode,jual,beli)) \n",
    "    \n",
    "temp "
   ]
  },
  {
   "cell_type": "markdown",
   "metadata": {},
   "source": [
    "Put the array into dataframe"
   ]
  },
  {
   "cell_type": "code",
   "execution_count": 10,
   "metadata": {
    "ExecuteTime": {
     "end_time": "2020-01-13T05:12:41.517372Z",
     "start_time": "2020-01-13T05:12:29.130015Z"
    }
   },
   "outputs": [
    {
     "data": {
      "text/html": [
       "<div>\n",
       "<style scoped>\n",
       "    .dataframe tbody tr th:only-of-type {\n",
       "        vertical-align: middle;\n",
       "    }\n",
       "\n",
       "    .dataframe tbody tr th {\n",
       "        vertical-align: top;\n",
       "    }\n",
       "\n",
       "    .dataframe thead th {\n",
       "        text-align: right;\n",
       "    }\n",
       "</style>\n",
       "<table border=\"1\" class=\"dataframe\">\n",
       "  <thead>\n",
       "    <tr style=\"text-align: right;\">\n",
       "      <th></th>\n",
       "      <th>periode</th>\n",
       "      <th>jual</th>\n",
       "      <th>beli</th>\n",
       "    </tr>\n",
       "  </thead>\n",
       "  <tbody>\n",
       "    <tr>\n",
       "      <th>0</th>\n",
       "      <td>07-08-2020</td>\n",
       "      <td>139.42</td>\n",
       "      <td>138.02</td>\n",
       "    </tr>\n",
       "    <tr>\n",
       "      <th>1</th>\n",
       "      <td>06-08-2020</td>\n",
       "      <td>138.88</td>\n",
       "      <td>137.48</td>\n",
       "    </tr>\n",
       "    <tr>\n",
       "      <th>2</th>\n",
       "      <td>05-08-2020</td>\n",
       "      <td>139.23</td>\n",
       "      <td>137.84</td>\n",
       "    </tr>\n",
       "    <tr>\n",
       "      <th>3</th>\n",
       "      <td>04-08-2020</td>\n",
       "      <td>139.19</td>\n",
       "      <td>137.79</td>\n",
       "    </tr>\n",
       "    <tr>\n",
       "      <th>4</th>\n",
       "      <td>03-08-2020</td>\n",
       "      <td>139.72</td>\n",
       "      <td>138.32</td>\n",
       "    </tr>\n",
       "  </tbody>\n",
       "</table>\n",
       "</div>"
      ],
      "text/plain": [
       "      periode    jual    beli\n",
       "0  07-08-2020  139.42  138.02\n",
       "1  06-08-2020  138.88  137.48\n",
       "2  05-08-2020  139.23  137.84\n",
       "3  04-08-2020  139.19  137.79\n",
       "4  03-08-2020  139.72  138.32"
      ]
     },
     "execution_count": 10,
     "metadata": {},
     "output_type": "execute_result"
    }
   ],
   "source": [
    "import pandas as pd\n",
    "\n",
    "df = pd.DataFrame(temp, columns = ('periode','jual','beli'))\n",
    "df.head()"
   ]
  },
  {
   "cell_type": "code",
   "execution_count": 11,
   "metadata": {},
   "outputs": [
    {
     "data": {
      "text/plain": [
       "periode    datetime64[ns]\n",
       "jual               object\n",
       "beli               object\n",
       "dtype: object"
      ]
     },
     "execution_count": 11,
     "metadata": {},
     "output_type": "execute_result"
    }
   ],
   "source": [
    "\n",
    "df['periode']=pd.to_datetime(df['periode'], dayfirst=True)\n",
    "df.dtypes"
   ]
  },
  {
   "cell_type": "code",
   "execution_count": 12,
   "metadata": {
    "scrolled": true
   },
   "outputs": [
    {
     "data": {
      "text/html": [
       "<div>\n",
       "<style scoped>\n",
       "    .dataframe tbody tr th:only-of-type {\n",
       "        vertical-align: middle;\n",
       "    }\n",
       "\n",
       "    .dataframe tbody tr th {\n",
       "        vertical-align: top;\n",
       "    }\n",
       "\n",
       "    .dataframe thead th {\n",
       "        text-align: right;\n",
       "    }\n",
       "</style>\n",
       "<table border=\"1\" class=\"dataframe\">\n",
       "  <thead>\n",
       "    <tr style=\"text-align: right;\">\n",
       "      <th></th>\n",
       "      <th>periode</th>\n",
       "      <th>jual</th>\n",
       "      <th>beli</th>\n",
       "    </tr>\n",
       "  </thead>\n",
       "  <tbody>\n",
       "    <tr>\n",
       "      <th>0</th>\n",
       "      <td>2020-08-07</td>\n",
       "      <td>139.42</td>\n",
       "      <td>138.02</td>\n",
       "    </tr>\n",
       "    <tr>\n",
       "      <th>1</th>\n",
       "      <td>2020-08-06</td>\n",
       "      <td>138.88</td>\n",
       "      <td>137.48</td>\n",
       "    </tr>\n",
       "    <tr>\n",
       "      <th>2</th>\n",
       "      <td>2020-08-05</td>\n",
       "      <td>139.23</td>\n",
       "      <td>137.84</td>\n",
       "    </tr>\n",
       "    <tr>\n",
       "      <th>3</th>\n",
       "      <td>2020-08-04</td>\n",
       "      <td>139.19</td>\n",
       "      <td>137.79</td>\n",
       "    </tr>\n",
       "    <tr>\n",
       "      <th>4</th>\n",
       "      <td>2020-08-03</td>\n",
       "      <td>139.72</td>\n",
       "      <td>138.32</td>\n",
       "    </tr>\n",
       "  </tbody>\n",
       "</table>\n",
       "</div>"
      ],
      "text/plain": [
       "     periode    jual    beli\n",
       "0 2020-08-07  139.42  138.02\n",
       "1 2020-08-06  138.88  137.48\n",
       "2 2020-08-05  139.23  137.84\n",
       "3 2020-08-04  139.19  137.79\n",
       "4 2020-08-03  139.72  138.32"
      ]
     },
     "execution_count": 12,
     "metadata": {},
     "output_type": "execute_result"
    }
   ],
   "source": [
    "df['jual']=df['jual'].astype('float64')\n",
    "df['beli']=df['beli'].astype('float64')\n",
    "df.dtypes\n",
    "df.head()"
   ]
  },
  {
   "cell_type": "markdown",
   "metadata": {},
   "source": [
    "melakukan proses pengecekan dan pembuatan plot"
   ]
  },
  {
   "cell_type": "code",
   "execution_count": 17,
   "metadata": {
    "ExecuteTime": {
     "end_time": "2020-01-13T05:12:59.165559Z",
     "start_time": "2020-01-13T05:12:58.910012Z"
    }
   },
   "outputs": [
    {
     "data": {
      "text/plain": [
       "<AxesSubplot:xlabel='periode'>"
      ]
     },
     "execution_count": 17,
     "metadata": {},
     "output_type": "execute_result"
    },
    {
     "data": {
      "image/png": "[encoded data removed]",
      "text/plain": [
       "<Figure size 432x288 with 1 Axes>"
      ]
     },
     "metadata": {
      "needs_background": "light"
     },
     "output_type": "display_data"
    }
   ],
   "source": [
    "df.pivot_table(\n",
    " values=['jual','beli'],\n",
    "    index='periode',\n",
    "    \n",
    "    aggfunc='max',\n",
    ").plot(kind='line')"
   ]
  },
  {
   "cell_type": "markdown",
   "metadata": {},
   "source": [
    "Dari data ini bisa di liat bahwa tanggal 3 agustus adalah yang paling tinggi untuk harga jual,maka saat terbaik untuk membeli mata uang yen adalah tanggal 6 agustus 2020. dan kemudian bila henda melakukan jual kembali (bid) pada tanggal 3 agustus 2020"
   ]
  },
  {
   "attachments": {},
   "cell_type": "markdown",
   "metadata": {
    "ExecuteTime": {
     "end_time": "2020-01-13T05:20:56.208237Z",
     "start_time": "2020-01-13T05:20:56.076043Z"
    }
   },
   "source": []
  },
  {
   "cell_type": "markdown",
   "metadata": {},
   "source": [
    "Put your analysis and conclusion here. \n",
    "\n",
    "then put your flask dashboard link here too."
   ]
  }
 ],
 "metadata": {
  "kernelspec": {
   "display_name": "test",
   "language": "python",
   "name": "test"
  },
  "language_info": {
   "codemirror_mode": {
    "name": "ipython",
    "version": 3
   },
   "file_extension": ".py",
   "mimetype": "text/x-python",
   "name": "python",
   "nbconvert_exporter": "python",
   "pygments_lexer": "ipython3",
   "version": "3.7.7"
  }
 },
 "nbformat": 4,
 "nbformat_minor": 2
}
